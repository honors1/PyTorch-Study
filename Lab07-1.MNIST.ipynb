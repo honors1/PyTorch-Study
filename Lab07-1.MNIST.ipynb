{
 "cells": [
  {
   "cell_type": "code",
   "execution_count": 10,
   "metadata": {},
   "outputs": [],
   "source": [
    "import torch\r\n",
    "import torchvision.datasets as dsets\r\n",
    "import torchvision.transforms as transforms\r\n",
    "from torch.utils.data import DataLoader\r\n",
    "import torch.nn as nn\r\n",
    "import matplotlib.pyplot as plt\r\n",
    "import random\r\n",
    "from time import time"
   ]
  },
  {
   "cell_type": "code",
   "execution_count": 11,
   "metadata": {},
   "outputs": [
    {
     "name": "stdout",
     "output_type": "stream",
     "text": [
      "다음 기기로 학습합니다: cuda\n"
     ]
    }
   ],
   "source": [
    "USE_CUDA = torch.cuda.is_available() # GPU를 사용가능하면 True, 아니라면 False를 리턴\r\n",
    "device = torch.device(\"cuda\" if USE_CUDA else \"cpu\") # GPU 사용 가능하면 사용하고 아니면 CPU 사용\r\n",
    "print(\"다음 기기로 학습합니다:\", device)"
   ]
  },
  {
   "cell_type": "code",
   "execution_count": 12,
   "metadata": {},
   "outputs": [],
   "source": [
    "# for reproducibility\r\n",
    "random.seed(777)\r\n",
    "torch.manual_seed(777)\r\n",
    "if device == 'cuda':\r\n",
    "    torch.cuda.manual_seed_all(777)"
   ]
  },
  {
   "cell_type": "code",
   "execution_count": 13,
   "metadata": {},
   "outputs": [],
   "source": [
    "# MNIST dataset\r\n",
    "mnist_train = dsets.MNIST(root='MNIST_data/',\r\n",
    "                          train=True,\r\n",
    "                          transform=transforms.ToTensor(),\r\n",
    "                          download=True)\r\n",
    "\r\n",
    "mnist_test = dsets.MNIST(root='MNIST_data/',\r\n",
    "                         train=False,\r\n",
    "                         transform=transforms.ToTensor(),\r\n",
    "                         download=True)"
   ]
  },
  {
   "cell_type": "code",
   "execution_count": 14,
   "metadata": {},
   "outputs": [],
   "source": [
    "# dataset loader\r\n",
    "batch_size = 100\r\n",
    "data_loader = DataLoader(dataset=mnist_train,\r\n",
    "                         batch_size=batch_size, # 배치 크기는 100\r\n",
    "                         shuffle=True,\r\n",
    "                         drop_last=True)"
   ]
  },
  {
   "cell_type": "code",
   "execution_count": 15,
   "metadata": {},
   "outputs": [],
   "source": [
    "# MNIST data image of shape 28 * 28 = 784\r\n",
    "linear = torch.nn.Linear(784, 10, bias=True).to(device)\r\n"
   ]
  },
  {
   "cell_type": "code",
   "execution_count": 16,
   "metadata": {},
   "outputs": [],
   "source": [
    "# parameters\r\n",
    "training_epochs = 15\r\n",
    "batch_size = 100\r\n",
    "# define cost/loss & optimizer\r\n",
    "criterion = torch.nn.CrossEntropyLoss().to(device) # Softmax is internally computed.\r\n",
    "optimizer = torch.optim.SGD(linear.parameters(), lr=0.1)"
   ]
  },
  {
   "cell_type": "code",
   "execution_count": 17,
   "metadata": {},
   "outputs": [
    {
     "name": "stdout",
     "output_type": "stream",
     "text": [
      "Epoch: 0001/15, cost =  0.534912467\n",
      "Epoch: 0002/15, cost =  0.359308600\n",
      "Epoch: 0003/15, cost =  0.331088215\n",
      "Epoch: 0004/15, cost =  0.316574216\n",
      "Epoch: 0005/15, cost =  0.307130307\n",
      "Epoch: 0006/15, cost =  0.300207883\n",
      "Epoch: 0007/15, cost =  0.294897258\n",
      "Epoch: 0008/15, cost =  0.290830433\n",
      "Epoch: 0009/15, cost =  0.287419587\n",
      "Epoch: 0010/15, cost =  0.284589082\n",
      "Epoch: 0011/15, cost =  0.281816214\n",
      "Epoch: 0012/15, cost =  0.279919684\n",
      "Epoch: 0013/15, cost =  0.277836859\n",
      "Epoch: 0014/15, cost =  0.276022315\n",
      "Epoch: 0015/15, cost =  0.274443209\n",
      "Learning finished, Elapse test time :    69.0733seconds\n"
     ]
    }
   ],
   "source": [
    "start = time() \r\n",
    "\r\n",
    "for epoch in range(training_epochs): # 앞서 training_epochs의 값은 15로 지정함.\r\n",
    "    avg_cost = 0\r\n",
    "    total_batch = len(data_loader)\r\n",
    "\r\n",
    "    for X, Y in data_loader:\r\n",
    "        # 배치 크기가 100이므로 아래의 연산에서 X는 (100, 784)의 텐서가 된다.\r\n",
    "        X = X.view(-1, 28 * 28).to(device)\r\n",
    "        # 레이블은 원-핫 인코딩이 된 상태가 아니라 0 ~ 9의 정수.\r\n",
    "        Y = Y.to(device)\r\n",
    "\r\n",
    "        optimizer.zero_grad()\r\n",
    "        hypothesis = linear(X)\r\n",
    "        cost = criterion(hypothesis, Y)\r\n",
    "        cost.backward()\r\n",
    "        optimizer.step()\r\n",
    "\r\n",
    "        avg_cost += cost / total_batch\r\n",
    "\r\n",
    "    print(f'Epoch: {epoch + 1:>04d}/{training_epochs:2d}, cost = {avg_cost:>12.9f}')\r\n",
    "print()\r\n",
    "print(f'Learning finished, Elapse test time : {time() - start:8.4f} seconds')"
   ]
  },
  {
   "cell_type": "code",
   "execution_count": 19,
   "metadata": {},
   "outputs": [
    {
     "name": "stdout",
     "output_type": "stream",
     "text": [
      "Evaluating finished, Elapse test time :     0.0279seconds\n",
      "Accuracy: 88.68%\n",
      "Label:  5\n",
      "Prediction:  3\n"
     ]
    },
    {
     "data": {
      "image/png": "[encoded data removed]",
      "text/plain": "<Figure size 432x288 with 1 Axes>"
     },
     "metadata": {
      "needs_background": "light",
      "transient": {}
     },
     "output_type": "display_data"
    }
   ],
   "source": [
    "# 테스트 데이터를 사용하여 모델을 테스트한다.\r\n",
    "with torch.no_grad(): # torch.no_grad()를 하면 gradient 계산을 수행하지 않는다.\r\n",
    "    start = time()\r\n",
    "    X_test = mnist_test.test_data.view(-1, 28 * 28).float().to(device)\r\n",
    "    Y_test = mnist_test.test_labels.to(device)\r\n",
    "\r\n",
    "    prediction = linear(X_test)\r\n",
    "    correct_prediction = torch.argmax(prediction, 1) == Y_test\r\n",
    "    accuracy = correct_prediction.float().mean()\r\n",
    "    print(f'Evaluating finished, Elapse test time : {time() - start:10.4f}seconds')\r\n",
    "    print(f'Accuracy: {accuracy.item()*100:.4}%' )\r\n",
    "\r\n",
    "    # MNIST 테스트 데이터에서 무작위로 하나를 뽑아서 예측을 해본다\r\n",
    "    r = random.randint(0, len(mnist_test) - 1)\r\n",
    "    X_single_data = mnist_test.test_data[r:r + 1].view(-1, 28 * 28).float().to(device)\r\n",
    "    Y_single_data = mnist_test.test_labels[r:r + 1].to(device)\r\n",
    "\r\n",
    "    print('Label: ', Y_single_data.item())\r\n",
    "    single_prediction = linear(X_single_data)\r\n",
    "    print('Prediction: ', torch.argmax(single_prediction, 1).item())\r\n",
    "\r\n",
    "    plt.imshow(mnist_test.test_data[r:r + 1].view(28, 28), cmap='Greys', interpolation='nearest')\r\n",
    "    plt.savefig('test.png')\r\n",
    "    plt.show()"
   ]
  },
  {
   "cell_type": "code",
   "execution_count": null,
   "metadata": {},
   "outputs": [],
   "source": []
  }
 ],
 "metadata": {
  "kernelspec": {
   "display_name": "Python 3.8.5 64-bit ('PyTorch': conda)",
   "metadata": {
    "interpreter": {
     "hash": "10ab15d463b6da8d8043090fbca014f3f73faff96cb051ed518ae7cbb88f5f23"
    }
   },
   "name": "python3"
  },
  "language_info": {
   "codemirror_mode": {
    "name": "ipython",
    "version": 3
   },
   "file_extension": ".py",
   "mimetype": "text/x-python",
   "name": "python",
   "nbconvert_exporter": "python",
   "pygments_lexer": "ipython3",
   "version": "3.8.5"
  },
  "orig_nbformat": 2
 },
 "nbformat": 4,
 "nbformat_minor": 2
}