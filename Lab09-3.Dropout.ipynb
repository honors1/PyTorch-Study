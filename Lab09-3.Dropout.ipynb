{
 "cells": [
  {
   "cell_type": "code",
   "execution_count": 1,
   "metadata": {},
   "outputs": [],
   "source": [
    "# Lab 10 MNIST and softmax\r\n",
    "import torch\r\n",
    "import torchvision.datasets as dsets\r\n",
    "import torchvision.transforms as transforms\r\n",
    "import random"
   ]
  },
  {
   "cell_type": "code",
   "execution_count": 2,
   "metadata": {},
   "outputs": [],
   "source": [
    "device = 'cuda' if torch.cuda.is_available() else 'cpu'\r\n",
    "\r\n",
    "# for reproducibility\r\n",
    "random.seed(777)\r\n",
    "torch.manual_seed(777)\r\n",
    "if device == 'cuda':\r\n",
    "    torch.cuda.manual_seed_all(777)"
   ]
  },
  {
   "cell_type": "code",
   "execution_count": 3,
   "metadata": {},
   "outputs": [],
   "source": [
    "# parameters\r\n",
    "learning_rate = 0.001\r\n",
    "training_epochs = 15\r\n",
    "batch_size = 100"
   ]
  },
  {
   "cell_type": "code",
   "execution_count": 4,
   "metadata": {},
   "outputs": [],
   "source": [
    "# MNIST dataset\r\n",
    "mnist_train = dsets.MNIST(root='MNIST_data/',\r\n",
    "                          train=True,\r\n",
    "                          transform=transforms.ToTensor(),\r\n",
    "                          download=True)\r\n",
    "\r\n",
    "mnist_test = dsets.MNIST(root='MNIST_data/',\r\n",
    "                         train=False,\r\n",
    "                         transform=transforms.ToTensor(),\r\n",
    "                         download=True)"
   ]
  },
  {
   "cell_type": "code",
   "execution_count": 5,
   "metadata": {},
   "outputs": [],
   "source": [
    "# dataset loader\r\n",
    "data_loader = torch.utils.data.DataLoader(dataset=mnist_train,\r\n",
    "                                          batch_size=batch_size,\r\n",
    "                                          shuffle=True,\r\n",
    "                                          drop_last=True)"
   ]
  },
  {
   "cell_type": "code",
   "execution_count": 6,
   "metadata": {},
   "outputs": [],
   "source": [
    "# nn layers\r\n",
    "linear1 = torch.nn.Linear(784, 256, bias=True)\r\n",
    "linear2 = torch.nn.Linear(256, 256, bias=True)\r\n",
    "linear3 = torch.nn.Linear(256, 10, bias=True)\r\n",
    "relu = torch.nn.ReLU()"
   ]
  },
  {
   "cell_type": "code",
   "execution_count": 7,
   "metadata": {},
   "outputs": [
    {
     "data": {
      "text/plain": "Parameter containing:\ntensor([[-0.0215, -0.0894,  0.0598,  ...,  0.0200,  0.0203,  0.1212],\n        [ 0.0078,  0.1378,  0.0920,  ...,  0.0975,  0.1458, -0.0302],\n        [ 0.1270, -0.1296,  0.1049,  ...,  0.0124,  0.1173, -0.0901],\n        ...,\n        [ 0.0661, -0.1025,  0.1437,  ...,  0.0784,  0.0977, -0.0396],\n        [ 0.0430, -0.1274, -0.0134,  ..., -0.0582,  0.1201,  0.1479],\n        [-0.1433,  0.0200, -0.0568,  ...,  0.0787,  0.0428, -0.0036]],\n       requires_grad=True)"
     },
     "execution_count": 7,
     "metadata": {},
     "output_type": "execute_result"
    }
   ],
   "source": [
    "# xavier initialization\r\n",
    "torch.nn.init.xavier_uniform_(linear1.weight)\r\n",
    "torch.nn.init.xavier_uniform_(linear2.weight)\r\n",
    "torch.nn.init.xavier_uniform_(linear3.weight)"
   ]
  },
  {
   "cell_type": "code",
   "execution_count": 8,
   "metadata": {},
   "outputs": [],
   "source": [
    "# model\r\n",
    "model = torch.nn.Sequential(linear1, relu, linear2, relu, linear3).to(device)"
   ]
  },
  {
   "cell_type": "code",
   "execution_count": 9,
   "metadata": {},
   "outputs": [],
   "source": [
    "# define cost/loss & optimizer\r\n",
    "criterion = torch.nn.CrossEntropyLoss().to(device)    # Softmax is internally computed.\r\n",
    "optimizer = torch.optim.Adam(model.parameters(), lr=learning_rate)"
   ]
  },
  {
   "cell_type": "code",
   "execution_count": 10,
   "metadata": {},
   "outputs": [
    {
     "name": "stdout",
     "output_type": "stream",
     "text": [
      "Epoch:   1/15, COST =    0.247003451\n",
      "Epoch:   2/15, COST =    0.094185494\n",
      "Epoch:   3/15, COST =    0.061617453\n",
      "Epoch:   4/15, COST =    0.043479644\n",
      "Epoch:   5/15, COST =    0.032874141\n",
      "Epoch:   6/15, COST =    0.025280697\n",
      "Epoch:   7/15, COST =    0.023241654\n",
      "Epoch:   8/15, COST =    0.018767215\n",
      "Epoch:   9/15, COST =    0.015611375\n",
      "Epoch:  10/15, COST =    0.013010488\n",
      "Epoch:  11/15, COST =    0.011016386\n",
      "Epoch:  12/15, COST =    0.014343535\n",
      "Epoch:  13/15, COST =    0.012009947\n",
      "Epoch:  14/15, COST =    0.010476776\n",
      "Epoch:  15/15, COST =    0.006509675\n",
      "Learning finished\n"
     ]
    }
   ],
   "source": [
    "total_batch = len(data_loader)\r\n",
    "for epoch in range(training_epochs):\r\n",
    "    avg_cost = 0\r\n",
    "\r\n",
    "    for X, Y in data_loader:\r\n",
    "        # reshape input image into [batch_size by 784]\r\n",
    "        # label is not one-hot encoded\r\n",
    "        X = X.view(-1, 28 * 28).to(device)\r\n",
    "        Y = Y.to(device)\r\n",
    "\r\n",
    "        optimizer.zero_grad()\r\n",
    "        hypothesis = model(X)\r\n",
    "        cost = criterion(hypothesis, Y)\r\n",
    "        cost.backward()\r\n",
    "        optimizer.step()\r\n",
    "\r\n",
    "        avg_cost += cost / total_batch\r\n",
    "\r\n",
    "    print(f\"Epoch: {epoch+1:>3,d}/{training_epochs:,}, COST = {avg_cost:>14.9f}\")\r\n",
    "\r\n",
    "print('Learning finished')"
   ]
  },
  {
   "cell_type": "code",
   "execution_count": 11,
   "metadata": {},
   "outputs": [
    {
     "name": "stdout",
     "output_type": "stream",
     "text": [
      "Accuracy: 98.099995 %\n",
      "Label:  8\n",
      "Prediction:  8\n"
     ]
    }
   ],
   "source": [
    "# Test the model using test sets\r\n",
    "with torch.no_grad():\r\n",
    "    X_test = mnist_test.test_data.view(-1, 28 * 28).float().to(device)\r\n",
    "    Y_test = mnist_test.test_labels.to(device)\r\n",
    "\r\n",
    "    prediction = model(X_test)\r\n",
    "    correct_prediction = torch.argmax(prediction, 1) == Y_test\r\n",
    "    accuracy = correct_prediction.float().mean()\r\n",
    "    print(f'Accuracy: {accuracy.item()*100:.6f} %')\r\n",
    "\r\n",
    "    # Get one and predict\r\n",
    "    r = random.randint(0, len(mnist_test) - 1)\r\n",
    "    X_single_data = mnist_test.test_data[r:r + 1].view(-1, 28 * 28).float().to(device)\r\n",
    "    Y_single_data = mnist_test.test_labels[r:r + 1].to(device)\r\n",
    "\r\n",
    "    print('Label: ', Y_single_data.item())\r\n",
    "    single_prediction = model(X_single_data)\r\n",
    "    print('Prediction: ', torch.argmax(single_prediction, 1).item())"
   ]
  }
 ],
 "metadata": {
  "kernelspec": {
   "display_name": "Python 3.8.5 64-bit ('PyTorch': conda)",
   "metadata": {
    "interpreter": {
     "hash": "10ab15d463b6da8d8043090fbca014f3f73faff96cb051ed518ae7cbb88f5f23"
    }
   },
   "name": "python3"
  },
  "language_info": {
   "codemirror_mode": {
    "name": "ipython",
    "version": 3
   },
   "file_extension": ".py",
   "mimetype": "text/x-python",
   "name": "python",
   "nbconvert_exporter": "python",
   "pygments_lexer": "ipython3",
   "version": "3.8.5"
  },
  "orig_nbformat": 2
 },
 "nbformat": 4,
 "nbformat_minor": 2
}