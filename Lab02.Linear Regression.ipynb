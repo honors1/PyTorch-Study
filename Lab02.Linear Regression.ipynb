{
 "metadata": {
  "language_info": {
   "codemirror_mode": {
    "name": "ipython",
    "version": 3
   },
   "file_extension": ".py",
   "mimetype": "text/x-python",
   "name": "python",
   "nbconvert_exporter": "python",
   "pygments_lexer": "ipython3",
   "version": "3.7.9-final"
  },
  "orig_nbformat": 2,
  "kernelspec": {
   "name": "python37964bitpytorchcondaa830780c895249409727a78a8b33e785",
   "display_name": "Python 3.7.9 64-bit ('PyTorch': conda)",
   "language": "python"
  }
 },
 "nbformat": 4,
 "nbformat_minor": 2,
 "cells": [
  {
   "cell_type": "code",
   "execution_count": 1,
   "metadata": {},
   "outputs": [],
   "source": [
    "import torch\n",
    "import torch.nn as nn\n",
    "import torch.nn.functional as F \n",
    "import torch.optim as optim "
   ]
  },
  {
   "cell_type": "code",
   "execution_count": 2,
   "metadata": {},
   "outputs": [
    {
     "output_type": "execute_result",
     "data": {
      "text/plain": [
       "<torch._C.Generator at 0x7f7d006ca1b0>"
      ]
     },
     "metadata": {},
     "execution_count": 2
    }
   ],
   "source": [
    "# setting random seed\n",
    "torch.manual_seed(1)"
   ]
  },
  {
   "cell_type": "code",
   "execution_count": 3,
   "metadata": {},
   "outputs": [
    {
     "output_type": "stream",
     "name": "stdout",
     "text": [
      "x_train is\ntensor([[1.],\n        [2.],\n        [3.]])\nShape of x_train: torch.Size([3, 1])\n\ny_train is\ntensor([[2.],\n        [4.],\n        [6.]])\nShape of y_train: torch.Size([3, 1])\n"
     ]
    }
   ],
   "source": [
    "# Traning dataset\n",
    "x_train = torch.FloatTensor([[1], [2], [3]])\n",
    "y_train = torch.FloatTensor([[2], [4], [6]])\n",
    "\n",
    "# check shape of Tensors\n",
    "print(f'x_train is\\n{x_train}')\n",
    "print(f\"Shape of x_train: {x_train.shape}\")\n",
    "print()\n",
    "print(f'y_train is\\n{y_train}')\n",
    "print(f\"Shape of y_train: {y_train.shape}\")\n"
   ]
  },
  {
   "cell_type": "code",
   "execution_count": 4,
   "metadata": {},
   "outputs": [
    {
     "output_type": "stream",
     "name": "stdout",
     "text": [
      "W = tensor([0.], requires_grad=True)\n"
     ]
    }
   ],
   "source": [
    "# To initialize weights\n",
    "W = torch.zeros(1, requires_grad=True)\n",
    "print(f\"W = {W}\")"
   ]
  },
  {
   "cell_type": "code",
   "execution_count": 5,
   "metadata": {},
   "outputs": [
    {
     "output_type": "stream",
     "name": "stdout",
     "text": [
      "b = tensor([0.], requires_grad=True)\n"
     ]
    }
   ],
   "source": [
    "# to initialize bias\n",
    "b = torch.zeros(1, requires_grad=True)\n",
    "print(f\"b = {b}\")"
   ]
  },
  {
   "cell_type": "code",
   "execution_count": 6,
   "metadata": {},
   "outputs": [
    {
     "output_type": "stream",
     "name": "stdout",
     "text": [
      "hypotheis = \ntensor([[0.],\n        [0.],\n        [0.]], grad_fn=<AddBackward0>)\n"
     ]
    }
   ],
   "source": [
    "# Hypothesis function\n",
    "hypothesis = x_train  *  W + b \n",
    "print(f\"hypotheis = \\n{hypothesis}\")"
   ]
  },
  {
   "cell_type": "code",
   "execution_count": 7,
   "metadata": {},
   "outputs": [
    {
     "output_type": "stream",
     "name": "stdout",
     "text": [
      "cost = 18.666666\ntensor(18.6667, grad_fn=<MeanBackward0>)\n"
     ]
    }
   ],
   "source": [
    "cost = torch.mean((hypothesis - y_train)**2)\n",
    "print(f\"cost = {cost:2.6f}\")\n",
    "print(cost)"
   ]
  },
  {
   "cell_type": "code",
   "execution_count": 8,
   "metadata": {},
   "outputs": [
    {
     "output_type": "stream",
     "name": "stdout",
     "text": [
      "Epoch 0000/2000, W: 0.1867, b: 0.0800, Cost: 18.6666660309\n",
      "Epoch 0100/2000, W: 1.7457, b: 0.5781, Cost: 00.0481706001\n",
      "Epoch 0200/2000, W: 1.8001, b: 0.4544, Cost: 00.0297665372\n",
      "Epoch 0300/2000, W: 1.8429, b: 0.3572, Cost: 00.0183939207\n",
      "Epoch 0400/2000, W: 1.8765, b: 0.2808, Cost: 00.0113663347\n",
      "Epoch 0500/2000, W: 1.9029, b: 0.2207, Cost: 00.0070236684\n",
      "Epoch 0600/2000, W: 1.9237, b: 0.1735, Cost: 00.0043401984\n",
      "Epoch 0700/2000, W: 1.9400, b: 0.1364, Cost: 00.0026819755\n",
      "Epoch 0800/2000, W: 1.9528, b: 0.1072, Cost: 00.0016572938\n",
      "Epoch 0900/2000, W: 1.9629, b: 0.0843, Cost: 00.0010241126\n",
      "Epoch 1000/2000, W: 1.9709, b: 0.0663, Cost: 00.0006328357\n",
      "Epoch 1100/2000, W: 1.9771, b: 0.0521, Cost: 00.0003910582\n",
      "Epoch 1200/2000, W: 1.9820, b: 0.0409, Cost: 00.0002416476\n",
      "Epoch 1300/2000, W: 1.9858, b: 0.0322, Cost: 00.0001493232\n",
      "Epoch 1400/2000, W: 1.9889, b: 0.0253, Cost: 00.0000922721\n",
      "Epoch 1500/2000, W: 1.9913, b: 0.0199, Cost: 00.0000570208\n",
      "Epoch 1600/2000, W: 1.9931, b: 0.0156, Cost: 00.0000352350\n",
      "Epoch 1700/2000, W: 1.9946, b: 0.0123, Cost: 00.0000217737\n",
      "Epoch 1800/2000, W: 1.9958, b: 0.0097, Cost: 00.0000134544\n",
      "Epoch 1900/2000, W: 1.9967, b: 0.0076, Cost: 00.0000083145\n",
      "Epoch 2000/2000, W: 1.9974, b: 0.0060, Cost: 00.0000051377\n"
     ]
    }
   ],
   "source": [
    "optimizer = optim.SGD([W, b], lr=0.01)\n",
    "\n",
    "nb_epochs = 2000\n",
    "\n",
    "for epoch in range(nb_epochs + 1):\n",
    "    hypothesis = x_train  *  W + b \n",
    "    cost = torch.mean((y_train - hypothesis)**2)\n",
    "\n",
    "    optimizer.zero_grad()\n",
    "    cost.backward()\n",
    "    optimizer.step()\n",
    "\n",
    "    if epoch % 100 == 0:\n",
    "        print(f\"Epoch {epoch:04d}/{nb_epochs}, W: {W.item():.4f}, b: {b.item():.4f}, Cost: {cost.item():013.10f}\")\n",
    "    "
   ]
  },
  {
   "cell_type": "code",
   "execution_count": null,
   "metadata": {},
   "outputs": [],
   "source": []
  }
 ]
}