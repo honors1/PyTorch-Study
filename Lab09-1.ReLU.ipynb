{
 "cells": [
  {
   "cell_type": "code",
   "execution_count": 2,
   "metadata": {},
   "outputs": [],
   "source": [
    "import torch\r\n",
    "import torchvision.datasets as dsets\r\n",
    "import torchvision.transforms as transforms\r\n",
    "import random"
   ]
  },
  {
   "cell_type": "code",
   "execution_count": 3,
   "metadata": {},
   "outputs": [],
   "source": [
    "device = 'cuda' if torch.cuda.is_available() else 'cpu'\r\n",
    "\r\n",
    "# for reproducibility\r\n",
    "random.seed(777)\r\n",
    "torch.manual_seed(777)\r\n",
    "\r\n",
    "if device == 'cuda':\r\n",
    "    torch.cuda.manual_seed_all(777)"
   ]
  },
  {
   "cell_type": "code",
   "execution_count": 4,
   "metadata": {},
   "outputs": [],
   "source": [
    "# parameters\r\n",
    "learning_rate = 0.001\r\n",
    "training_epochs = 15\r\n",
    "batch_size = 100"
   ]
  },
  {
   "cell_type": "code",
   "execution_count": 5,
   "metadata": {},
   "outputs": [],
   "source": [
    "# MNIST dataset\r\n",
    "mnist_train = dsets.MNIST(root='MNIST_data/',\r\n",
    "                          train=True,\r\n",
    "                          transform=transforms.ToTensor(),\r\n",
    "                          download=True)\r\n",
    "\r\n",
    "mnist_test = dsets.MNIST(root='MNIST_data/',\r\n",
    "                         train=False,\r\n",
    "                         transform=transforms.ToTensor(),\r\n",
    "                         download=True)"
   ]
  },
  {
   "cell_type": "code",
   "execution_count": 6,
   "metadata": {},
   "outputs": [],
   "source": [
    "# dataset loader\r\n",
    "data_loader = torch.utils.data.DataLoader(dataset=mnist_train,\r\n",
    "                                          batch_size=batch_size,\r\n",
    "                                          shuffle=True,\r\n",
    "                                          drop_last=True)"
   ]
  },
  {
   "cell_type": "code",
   "execution_count": 7,
   "metadata": {},
   "outputs": [],
   "source": [
    "# MNIST data image of shape 28 * 28 = 784\r\n",
    "linear = torch.nn.Linear(784, 10, bias=True).to(device)"
   ]
  },
  {
   "cell_type": "code",
   "execution_count": 8,
   "metadata": {},
   "outputs": [
    {
     "data": {
      "text/plain": "Parameter containing:\ntensor([[-1.2901,  0.3930, -0.1891,  ..., -0.1626, -0.3275,  0.5608],\n        [-1.6757, -0.2454,  0.9221,  ...,  0.9559,  0.6160, -0.4226],\n        [ 0.2444,  1.4810, -2.0906,  ...,  0.1206,  1.0044, -0.3737],\n        ...,\n        [ 0.6234,  1.8019, -2.7563,  ..., -0.5889, -0.5576,  0.7360],\n        [-0.2871, -1.3313, -2.2248,  ...,  0.0309,  0.9180, -0.1482],\n        [ 0.7678,  0.6624, -0.5362,  ...,  0.2338,  0.3688, -0.7182]],\n       device='cuda:0', requires_grad=True)"
     },
     "execution_count": 8,
     "metadata": {},
     "output_type": "execute_result"
    }
   ],
   "source": [
    "# Initialization\r\n",
    "torch.nn.init.normal_(linear.weight)"
   ]
  },
  {
   "cell_type": "code",
   "execution_count": 9,
   "metadata": {},
   "outputs": [],
   "source": [
    "# define cost/loss & optimizer\r\n",
    "criterion = torch.nn.CrossEntropyLoss().to(device)    # Softmax is internally computed.\r\n",
    "optimizer = torch.optim.Adam(linear.parameters(), lr=learning_rate)"
   ]
  },
  {
   "cell_type": "code",
   "execution_count": 10,
   "metadata": {},
   "outputs": [
    {
     "name": "stdout",
     "output_type": "stream",
     "text": [
      "Epoch:    1/600, COST = 5.655342102\n",
      "Epoch:    2/600, COST = 1.696972728\n",
      "Epoch:    3/600, COST = 1.122007251\n",
      "Epoch:    4/600, COST = 0.883580327\n",
      "Epoch:    5/600, COST = 0.750405014\n",
      "Epoch:    6/600, COST = 0.663256943\n",
      "Epoch:    7/600, COST = 0.600838721\n",
      "Epoch:    8/600, COST = 0.554966450\n",
      "Epoch:    9/600, COST = 0.518606126\n",
      "Epoch:   10/600, COST = 0.489761591\n",
      "Epoch:   11/600, COST = 0.465993136\n",
      "Epoch:   12/600, COST = 0.446268976\n",
      "Epoch:   13/600, COST = 0.429332882\n",
      "Epoch:   14/600, COST = 0.414647281\n",
      "Epoch:   15/600, COST = 0.401718765\n",
      "Learning finished\n"
     ]
    }
   ],
   "source": [
    "total_batch = len(data_loader)\r\n",
    "\r\n",
    "for epoch in range(training_epochs):\r\n",
    "    avg_cost = 0\r\n",
    "\r\n",
    "    for X, Y in data_loader:\r\n",
    "        # reshape input image into [batch_size by 784]\r\n",
    "        # label is not one-hot encoded\r\n",
    "        X = X.view(-1, 28 * 28).to(device)\r\n",
    "        Y = Y.to(device)\r\n",
    "\r\n",
    "        optimizer.zero_grad()\r\n",
    "        hypothesis = linear(X)\r\n",
    "        cost = criterion(hypothesis, Y)\r\n",
    "        cost.backward()\r\n",
    "        optimizer.step()\r\n",
    "\r\n",
    "        avg_cost += cost / total_batch\r\n",
    "\r\n",
    "    print(f\"Epoch: {epoch+1:>4,d}/{total_batch:,}, COST = {avg_cost:.9f}\")\r\n",
    "\r\n",
    "print('Learning finished')"
   ]
  },
  {
   "cell_type": "code",
   "execution_count": 11,
   "metadata": {},
   "outputs": [
    {
     "name": "stdout",
     "output_type": "stream",
     "text": [
      "Accuracy: 88.2700 %\n",
      "Label:  8\n",
      "Prediction:  3\n"
     ]
    }
   ],
   "source": [
    "# Test the model using test sets\r\n",
    "with torch.no_grad():\r\n",
    "    X_test = mnist_test.test_data.view(-1, 28 * 28).float().to(device)\r\n",
    "    Y_test = mnist_test.test_labels.to(device)\r\n",
    "\r\n",
    "    prediction = linear(X_test)\r\n",
    "    correct_prediction = torch.argmax(prediction, 1) == Y_test\r\n",
    "    accuracy = correct_prediction.float().mean()\r\n",
    "    print(f'Accuracy: {accuracy.item()*100:.4f} %')\r\n",
    "\r\n",
    "    # Get one and predict\r\n",
    "    r = random.randint(0, len(mnist_test) - 1)\r\n",
    "    X_single_data = mnist_test.test_data[r:r + 1].view(-1, 28 * 28).float().to(device)\r\n",
    "    Y_single_data = mnist_test.test_labels[r:r + 1].to(device)\r\n",
    "\r\n",
    "    print('Label: ', Y_single_data.item())\r\n",
    "    single_prediction = linear(X_single_data)\r\n",
    "    print('Prediction: ', torch.argmax(single_prediction, 1).item())"
   ]
  }
 ],
 "metadata": {
  "kernelspec": {
   "display_name": "Python 3.8.5 64-bit ('PyTorch': conda)",
   "metadata": {
    "interpreter": {
     "hash": "10ab15d463b6da8d8043090fbca014f3f73faff96cb051ed518ae7cbb88f5f23"
    }
   },
   "name": "python3"
  },
  "language_info": {
   "codemirror_mode": {
    "name": "ipython",
    "version": 3
   },
   "file_extension": ".py",
   "mimetype": "text/x-python",
   "name": "python",
   "nbconvert_exporter": "python",
   "pygments_lexer": "ipython3",
   "version": "3.8.5-final"
  },
  "orig_nbformat": 2
 },
 "nbformat": 4,
 "nbformat_minor": 2
}