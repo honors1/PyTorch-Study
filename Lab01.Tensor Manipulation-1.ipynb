{
 "cells": [
  {
   "cell_type": "code",
   "execution_count": 1,
   "metadata": {},
   "outputs": [],
   "source": [
    "import numpy as np\n",
    "import torch "
   ]
  },
  {
   "cell_type": "code",
   "execution_count": 2,
   "metadata": {},
   "outputs": [
    {
     "name": "stdout",
     "output_type": "stream",
     "text": [
      "[0. 1. 2. 3. 4. 5. 6.]\n"
     ]
    }
   ],
   "source": [
    "t = np.array([0., 1., 2., 3., 4., 5., 6.])\n",
    "print(t)"
   ]
  },
  {
   "cell_type": "code",
   "execution_count": 3,
   "metadata": {},
   "outputs": [
    {
     "name": "stdout",
     "output_type": "stream",
     "text": [
      "텐서 t는 1차원\n",
      "텐서 t의 크기는 7\n"
     ]
    }
   ],
   "source": [
    "print(f'텐서 t는 {t.ndim}차원')\n",
    "print(f'텐서 t의 크기는 {t.shape[0]}')"
   ]
  },
  {
   "cell_type": "code",
   "execution_count": 4,
   "metadata": {},
   "outputs": [
    {
     "name": "stdout",
     "output_type": "stream",
     "text": [
      "t[0] = 0.0,  t[1] = 1.0,  t[-1] = 6.0\n"
     ]
    }
   ],
   "source": [
    "print(f't[0] = {t[0]},  t[1] = {t[1]},  t[-1] = {t[-1]}')"
   ]
  },
  {
   "cell_type": "code",
   "execution_count": 5,
   "metadata": {},
   "outputs": [
    {
     "name": "stdout",
     "output_type": "stream",
     "text": [
      "t[2:5] = [2. 3. 4.], t[4:-1] = [4. 5.]\n"
     ]
    }
   ],
   "source": [
    "print(f't[2:5] = {t[2:5]}, t[4:-1] = {t[4:-1]}')"
   ]
  },
  {
   "cell_type": "code",
   "execution_count": 6,
   "metadata": {},
   "outputs": [
    {
     "name": "stdout",
     "output_type": "stream",
     "text": [
      "t[:2] = [0. 1.], t[3:] = [3. 4. 5. 6.]\n"
     ]
    }
   ],
   "source": [
    "print(f't[:2] = {t[:2]}, t[3:] = {t[3:]}')"
   ]
  },
  {
   "cell_type": "code",
   "execution_count": 7,
   "metadata": {},
   "outputs": [
    {
     "name": "stdout",
     "output_type": "stream",
     "text": [
      "[[ 1.  2.  3.]\n",
      " [ 4.  5.  6.]\n",
      " [ 7.  8.  9.]\n",
      " [10. 11. 12.]]\n"
     ]
    }
   ],
   "source": [
    "t = np.array([[1., 2., 3.], [4., 5., 6.], [7., 8., 9.], [10., 11., 12.]])\n",
    "print(t)"
   ]
  },
  {
   "cell_type": "code",
   "execution_count": 8,
   "metadata": {},
   "outputs": [
    {
     "name": "stdout",
     "output_type": "stream",
     "text": [
      "2차원 텐서 t는 2차원\n",
      "2차원 텐서 t의 크기는 4행 x 3열 \n"
     ]
    }
   ],
   "source": [
    "print(f'2차원 텐서 t는 {t.ndim}차원')\n",
    "print(f'2차원 텐서 t의 크기는 {t.shape[0]}행 x {t.shape[1]}열 ') "
   ]
  },
  {
   "cell_type": "code",
   "execution_count": 9,
   "metadata": {},
   "outputs": [
    {
     "name": "stdout",
     "output_type": "stream",
     "text": [
      "파이토치 1차원 텐서: tensor([0., 1., 2., 3., 4., 5., 6.])\n",
      "파이토치 1차원 텐서는 1차원\n",
      "파이토치 1차원 텐서의 모양: torch.Size([7])\n"
     ]
    }
   ],
   "source": [
    "t = np.array([0., 1., 2., 3., 4., 5., 6.])\n",
    "ft = torch.FloatTensor(t)\n",
    "print(f'파이토치 1차원 텐서: {ft}')\n",
    "print(f'파이토치 1차원 텐서는 {ft.dim()}차원') \n",
    "print(f'파이토치 1차원 텐서의 모양: {ft.shape}')"
   ]
  },
  {
   "cell_type": "code",
   "execution_count": 10,
   "metadata": {},
   "outputs": [
    {
     "name": "stdout",
     "output_type": "stream",
     "text": [
      "ft[0] = 0.0, ft[1] = 1.0, ft[-1] = 6.0\n",
      "ft[2:5] = tensor([2., 3., 4.]), ft[4:-1] = tensor([4., 5.])\n",
      "ft[:2] = tensor([0., 1.]), ft[3:] = tensor([3., 4., 5., 6.])\n"
     ]
    }
   ],
   "source": [
    "print(f'ft[0] = {ft[0]}, ft[1] = {ft[1]}, ft[-1] = {ft[-1]}')\n",
    "print(f'ft[2:5] = {ft[2:5]}, ft[4:-1] = {ft[4:-1]}')\n",
    "print(f'ft[:2] = {ft[:2]}, ft[3:] = {ft[3:]}')"
   ]
  },
  {
   "cell_type": "code",
   "execution_count": 11,
   "metadata": {},
   "outputs": [
    {
     "name": "stdout",
     "output_type": "stream",
     "text": [
      "tensor([[ 1.,  2.,  3.],\n",
      "        [ 4.,  5.,  6.],\n",
      "        [ 7.,  8.,  9.],\n",
      "        [10., 11., 12.]])\n",
      "파이토치 2차원 텐서는 2차원\n",
      "파이토치 2차원 텐서의 모양: torch.Size([4, 3])\n",
      "파이토치 2차원 텐서의 크기: torch.Size([4, 3])\n"
     ]
    }
   ],
   "source": [
    "t = np.array([[1., 2., 3.], [4., 5., 6.], [7., 8., 9.], [10., 11., 12.]])\n",
    "ft = torch.FloatTensor(t)\n",
    "print(ft)\n",
    "print(f'파이토치 2차원 텐서는 {ft.dim()}차원') \n",
    "print(f'파이토치 2차원 텐서의 모양: {ft.shape}')\n",
    "print(f'파이토치 2차원 텐서의 크기: {ft.size()}')"
   ]
  },
  {
   "cell_type": "code",
   "execution_count": 12,
   "metadata": {},
   "outputs": [
    {
     "name": "stdout",
     "output_type": "stream",
     "text": [
      "t[:, 1] = [ 2.  5.  8. 11.]\n",
      "t[:, 1]의 크기: 4\n",
      "t[:, :-1] = \n",
      "[[ 1.  2.]\n",
      " [ 4.  5.]\n",
      " [ 7.  8.]\n",
      " [10. 11.]]\n"
     ]
    }
   ],
   "source": [
    "print(f't[:, 1] = {t[:, 1]}')\n",
    "print(f't[:, 1]의 크기: {t[:, 1].size}')\n",
    "print(f't[:, :-1] = \\n{t[:, :-1]}')"
   ]
  },
  {
   "cell_type": "code",
   "execution_count": 13,
   "metadata": {},
   "outputs": [
    {
     "name": "stdout",
     "output_type": "stream",
     "text": [
      "tensor([[[[ 1.,  2.,  3.,  4.],\n",
      "          [ 5.,  6.,  7.,  8.],\n",
      "          [ 9., 10., 11., 12.]],\n",
      "\n",
      "         [[13., 14., 15., 16.],\n",
      "          [17., 18., 19., 20.],\n",
      "          [21., 22., 23., 24.]]]])\n",
      "파이토치 4차원 텐서는 4차원\n",
      "파이토치 4차원 텐서의 모양: torch.Size([1, 2, 3, 4])\n",
      "파이토치 4차원 텐서의 크기: torch.Size([1, 2, 3, 4])\n"
     ]
    }
   ],
   "source": [
    "t = np.array([[[[1, 2, 3, 4], [5, 6, 7, 8], [9, 10, 11, 12]],\n",
    "               [[13, 14, 15, 16], [17, 18, 19, 20], [21, 22, 23, 24]]]])\n",
    "ft = torch.FloatTensor(t)\n",
    "print(ft)\n",
    "print(f'파이토치 4차원 텐서는 {ft.dim()}차원') \n",
    "print(f'파이토치 4차원 텐서의 모양: {ft.shape}')\n",
    "print(f'파이토치 4차원 텐서의 크기: {ft.size()}')"
   ]
  },
  {
   "cell_type": "code",
   "execution_count": 14,
   "metadata": {},
   "outputs": [
    {
     "name": "stdout",
     "output_type": "stream",
     "text": [
      "m1 = tensor([[3., 2.]])\n",
      "m2 = tensor([[2., 2.]])\n",
      "m1 + m2 = tensor([[5., 4.]])\n"
     ]
    }
   ],
   "source": [
    "m1 = torch.FloatTensor([[3, 2]])\n",
    "m2 = torch.FloatTensor([[2, 2]])\n",
    "print(f'm1 = {m1}')\n",
    "print(f'm2 = {m2}')\n",
    "print(f'm1 + m2 = {m1 + m2}')"
   ]
  },
  {
   "cell_type": "code",
   "execution_count": 15,
   "metadata": {},
   "outputs": [
    {
     "name": "stdout",
     "output_type": "stream",
     "text": [
      "m1 = tensor([[1., 2.]])\n",
      "m2 = tensor([[3.]])\n",
      "m1 + m2 = tensor([[4., 5.]])\n"
     ]
    }
   ],
   "source": [
    "m1 = torch.FloatTensor([[1, 2]])\n",
    "m2 = torch.FloatTensor([[3]])\n",
    "print(f'm1 = {m1}')\n",
    "print(f'm2 = {m2}')\n",
    "print(f'm1 + m2 = {m1 + m2}')"
   ]
  },
  {
   "cell_type": "code",
   "execution_count": 16,
   "metadata": {},
   "outputs": [
    {
     "name": "stdout",
     "output_type": "stream",
     "text": [
      "m1 = tensor([[1., 2.]])\n",
      "m2 = \n",
      "tensor([[3.],\n",
      "        [2.]])\n",
      "m1 + m2 = \n",
      "tensor([[4., 5.],\n",
      "        [3., 4.]])\n"
     ]
    }
   ],
   "source": [
    "m1 = torch.FloatTensor([[1, 2]])\n",
    "m2 = torch.FloatTensor([[3], [2]])\n",
    "print(f'm1 = {m1}')\n",
    "print(f'm2 = \\n{m2}')\n",
    "print(f'm1 + m2 = \\n{m1 + m2}')"
   ]
  },
  {
   "cell_type": "code",
   "execution_count": 17,
   "metadata": {},
   "outputs": [
    {
     "name": "stdout",
     "output_type": "stream",
     "text": [
      "m1 = tensor([[1., 2.]])\n",
      "m2 = \n",
      "tensor([[3.],\n",
      "        [4.]])\n",
      "m1 + m2 = \n",
      "tensor([[4., 5.],\n",
      "        [5., 6.]])\n"
     ]
    }
   ],
   "source": [
    "m1 = torch.FloatTensor([[1, 2]])\n",
    "m2 = torch.FloatTensor([[3], [4]])\n",
    "print(f'm1 = {m1}')\n",
    "print(f'm2 = \\n{m2}')\n",
    "print(f'm1 + m2 = \\n{m1 + m2}')"
   ]
  },
  {
   "cell_type": "code",
   "execution_count": 18,
   "metadata": {},
   "outputs": [
    {
     "name": "stdout",
     "output_type": "stream",
     "text": [
      "m1 = \n",
      "tensor([[1., 2.],\n",
      "        [3., 4.]])\n",
      "m2 = \n",
      "tensor([[1.],\n",
      "        [2.]])\n",
      "m1의 크기: torch.Size([2, 2]) = 2행 x 2열\n",
      "m2의 크기: torch.Size([2, 1]) = 2행 x 1열\n",
      "m1.matmul(m2) = m1 x m2 = \n",
      "tensor([[ 5.],\n",
      "        [11.]])\n"
     ]
    }
   ],
   "source": [
    "m1 = torch.FloatTensor([[1, 2], [3, 4]])\n",
    "m2 = torch.FloatTensor([[1], [2]])\n",
    "print(f'm1 = \\n{m1}')\n",
    "print(f'm2 = \\n{m2}')\n",
    "print(f'm1의 크기: {m1.shape} = {m1.shape[0]}행 x {m1.shape[1]}열') # 2 x 2\n",
    "print(f'm2의 크기: {m2.shape} = {m2.shape[0]}행 x {m2.shape[1]}열') # 2 x 1\n",
    "print(f'm1.matmul(m2) = m1 x m2 = \\n{m1.matmul(m2)}') # 2 x 1"
   ]
  },
  {
   "cell_type": "code",
   "execution_count": 19,
   "metadata": {},
   "outputs": [
    {
     "name": "stdout",
     "output_type": "stream",
     "text": [
      "m1 = \n",
      "tensor([[1., 2.],\n",
      "        [3., 4.]])\n",
      "m2 = \n",
      "tensor([[1.],\n",
      "        [2.]])\n",
      "m1의 크기: torch.Size([2, 2]) = 2행 x 2열\n",
      "m2의 크기: torch.Size([2, 1]) = 2행 x 1열\n",
      "m1.mul(m2) = m1 * m2 = \n",
      "tensor([[1., 2.],\n",
      "        [6., 8.]])\n"
     ]
    }
   ],
   "source": [
    "m1 = torch.FloatTensor([[1, 2], [3, 4]])\n",
    "m2 = torch.FloatTensor([[1], [2]])\n",
    "print(f'm1 = \\n{m1}')\n",
    "print(f'm2 = \\n{m2}')\n",
    "print(f'm1의 크기: {m1.shape} = {m1.shape[0]}행 x {m1.shape[1]}열') # 2 x 2\n",
    "print(f'm2의 크기: {m2.shape} = {m2.shape[0]}행 x {m2.shape[1]}열') # 2 x 1\n",
    "print(f'm1.mul(m2) = m1 * m2 = \\n{m1.mul(m2)}') # 2 x 1"
   ]
  },
  {
   "cell_type": "code",
   "execution_count": 20,
   "metadata": {},
   "outputs": [
    {
     "name": "stdout",
     "output_type": "stream",
     "text": [
      "t = tensor([1., 2.])\n",
      "토치텐서 t의 평균 = 1.5\n"
     ]
    }
   ],
   "source": [
    "# 평균\n",
    "t = torch.FloatTensor([1, 2])\n",
    "print(f't = {t}')\n",
    "print(f'토치텐서 t의 평균 = {t.mean()}')"
   ]
  },
  {
   "cell_type": "code",
   "execution_count": 21,
   "metadata": {},
   "outputs": [
    {
     "name": "stdout",
     "output_type": "stream",
     "text": [
      "Can only calculate the mean of floating types. Got Long instead.\n"
     ]
    }
   ],
   "source": [
    "t = torch.LongTensor([1, 2])\n",
    "try:\n",
    "    print(t.mean())\n",
    "except Exception as exc:\n",
    "    print(exc)"
   ]
  },
  {
   "cell_type": "code",
   "execution_count": 22,
   "metadata": {},
   "outputs": [
    {
     "name": "stdout",
     "output_type": "stream",
     "text": [
      "tensor([[1., 2.],\n",
      "        [3., 4.]])\n"
     ]
    }
   ],
   "source": [
    "t = torch.FloatTensor([[1, 2], [3, 4]])\n",
    "print(t)"
   ]
  },
  {
   "cell_type": "code",
   "execution_count": 23,
   "metadata": {},
   "outputs": [
    {
     "name": "stdout",
     "output_type": "stream",
     "text": [
      "토치텐서 전체 평균: 2.5\n",
      "토치텐서 행별(dim=0) 평균: tensor([2., 3.])\n",
      "토치텐서 열별(dim=1) 평균: tensor([1.5000, 3.5000])\n",
      "토치텐서 dim=-1별 평균: tensor([1.5000, 3.5000])\n"
     ]
    }
   ],
   "source": [
    "print(f'토치텐서 전체 평균: {t.mean()}')\n",
    "print(f'토치텐서 행별(dim=0) 평균: {t.mean(dim=0)}')\n",
    "print(f'토치텐서 열별(dim=1) 평균: {t.mean(dim=1)}')\n",
    "print(f'토치텐서 dim=-1별 평균: {t.mean(dim=-1)}')"
   ]
  },
  {
   "cell_type": "code",
   "execution_count": 24,
   "metadata": {},
   "outputs": [
    {
     "name": "stdout",
     "output_type": "stream",
     "text": [
      "토치텐서 전체 합: 10.0\n",
      "토치텐서 행별(dim=0) 합: tensor([4., 6.])\n",
      "토치텐서 열별(dim=1) 합: tensor([3., 7.])\n",
      "토치텐서 dim=-1별 합: tensor([3., 7.])\n"
     ]
    }
   ],
   "source": [
    "print(f'토치텐서 전체 합: {t.sum()}')\n",
    "print(f'토치텐서 행별(dim=0) 합: {t.sum(dim=0)}')\n",
    "print(f'토치텐서 열별(dim=1) 합: {t.sum(dim=1)}')\n",
    "print(f'토치텐서 dim=-1별 합: {t.sum(dim=-1)}')"
   ]
  },
  {
   "cell_type": "code",
   "execution_count": 25,
   "metadata": {},
   "outputs": [
    {
     "name": "stdout",
     "output_type": "stream",
     "text": [
      "토치텐서 전체에 대한 최대값: 4.0\n",
      "토치텐서 행별(dim=0) 최대값 및 행에서의 인덱스: \n",
      "torch.return_types.max(\n",
      "values=tensor([3., 4.]),\n",
      "indices=tensor([1, 1]))\n",
      "토치텐서 행별 최대값: tensor([3., 4.])\n",
      "토치텐서 최대값의 인덱스: tensor([1, 1])\n",
      "토치텐서 열별(dim=1) 최대값 및 열에서의 인덱스: \n",
      "torch.return_types.max(\n",
      "values=tensor([2., 4.]),\n",
      "indices=tensor([1, 1]))\n",
      "토치텐서 dim=-1별 최대값 및 dim=-1에서의 인덱스: \n",
      "torch.return_types.max(\n",
      "values=tensor([2., 4.]),\n",
      "indices=tensor([1, 1]))\n"
     ]
    }
   ],
   "source": [
    "print(f'토치텐서 전체에 대한 최대값: {t.max()}')\n",
    "print(f'토치텐서 행별(dim=0) 최대값 및 행에서의 인덱스: \\n{t.max(dim=0)}')\n",
    "print(f'토치텐서 행별 최대값: {t.max(dim=0)[0]}')\n",
    "print(f'토치텐서 최대값의 인덱스: {t.max(dim=0)[1]}')\n",
    "print(f'토치텐서 열별(dim=1) 최대값 및 열에서의 인덱스: \\n{t.max(dim=1)}')\n",
    "print(f'토치텐서 dim=-1별 최대값 및 dim=-1에서의 인덱스: \\n{t.max(dim=-1)}')"
   ]
  }
 ],
 "metadata": {
  "kernelspec": {
   "display_name": "Python 3",
   "language": "python",
   "name": "python3"
  },
  "language_info": {
   "codemirror_mode": {
    "name": "ipython",
    "version": 3
   },
   "file_extension": ".py",
   "mimetype": "text/x-python",
   "name": "python",
   "nbconvert_exporter": "python",
   "pygments_lexer": "ipython3",
   "version": "3.7.9"
  }
 },
 "nbformat": 4,
 "nbformat_minor": 4
}
