{
 "metadata": {
  "language_info": {
   "codemirror_mode": {
    "name": "ipython",
    "version": 3
   },
   "file_extension": ".py",
   "mimetype": "text/x-python",
   "name": "python",
   "nbconvert_exporter": "python",
   "pygments_lexer": "ipython3",
   "version": "3.8.5-final"
  },
  "orig_nbformat": 2,
  "kernelspec": {
   "name": "python3",
   "display_name": "Python 3",
   "language": "python"
  }
 },
 "nbformat": 4,
 "nbformat_minor": 2,
 "cells": [
  {
   "cell_type": "code",
   "execution_count": 1,
   "metadata": {},
   "outputs": [],
   "source": [
    "import torch\n",
    "import torchvision.datasets as datasets\n",
    "import torchvision.transforms as transforms\n",
    "from torch.utils.data import DataLoader\n",
    "import torch.nn as nn\n",
    "import matplotlib.pyplot as plt \n",
    "import random"
   ]
  },
  {
   "cell_type": "code",
   "execution_count": 2,
   "metadata": {},
   "outputs": [
    {
     "output_type": "stream",
     "name": "stdout",
     "text": [
      "cuda로 학습합니다.\n"
     ]
    }
   ],
   "source": [
    "USE_CUDA = torch.cuda.is_available()\n",
    "device = torch.device(\"cuda\" if USE_CUDA else \"cpu\")\n",
    "print(f\"{device}로 학습합니다.\")"
   ]
  },
  {
   "cell_type": "code",
   "execution_count": 3,
   "metadata": {},
   "outputs": [],
   "source": [
    "random.seed(777)\n",
    "torch.manual_seed(777)\n",
    "\n",
    "if device == \"cuda\":\n",
    "    torch.cuda.manual_seed_all(777)"
   ]
  },
  {
   "cell_type": "code",
   "execution_count": 4,
   "metadata": {},
   "outputs": [],
   "source": [
    "training_epochs = 100\n",
    "batch_size = 100"
   ]
  },
  {
   "cell_type": "code",
   "execution_count": 5,
   "metadata": {},
   "outputs": [],
   "source": [
    "mnist_train = datasets.MNIST(root='MNIST_data/',\n",
    "                             train=True,\n",
    "                             transform=transforms.ToTensor(),\n",
    "                             download=True)\n",
    "\n",
    "mnist_test = datasets.MNIST(root='MNIST_data/',\n",
    "                            train=False,\n",
    "                            transform=transforms.ToTensor(),\n",
    "                            download=True)"
   ]
  },
  {
   "cell_type": "code",
   "execution_count": 6,
   "metadata": {},
   "outputs": [],
   "source": [
    "data_loader = DataLoader(dataset=mnist_train,\n",
    "                         batch_size=batch_size,\n",
    "                         shuffle=True,\n",
    "                         drop_last=True)"
   ]
  },
  {
   "cell_type": "code",
   "execution_count": 7,
   "metadata": {},
   "outputs": [],
   "source": [
    "linear = nn.Linear(784, 10, bias=True).to(device=device)\n",
    "\n",
    "criterion = nn.CrossEntropyLoss().to(device=device)\n",
    "optimizer = torch.optim.SGD(linear.parameters(), lr=0.1)"
   ]
  },
  {
   "cell_type": "code",
   "execution_count": 8,
   "metadata": {},
   "outputs": [
    {
     "output_type": "stream",
     "name": "stdout",
     "text": [
      "Epoch:  001, COST: 0.534912467\n",
      "Epoch:  002, COST: 0.359308600\n",
      "Epoch:  003, COST: 0.331088215\n",
      "Epoch:  004, COST: 0.316574216\n",
      "Epoch:  005, COST: 0.307130307\n",
      "Epoch:  006, COST: 0.300207883\n",
      "Epoch:  007, COST: 0.294897258\n",
      "Epoch:  008, COST: 0.290830433\n",
      "Epoch:  009, COST: 0.287419587\n",
      "Epoch:  010, COST: 0.284589082\n",
      "Epoch:  011, COST: 0.281816214\n",
      "Epoch:  012, COST: 0.279919684\n",
      "Epoch:  013, COST: 0.277836859\n",
      "Epoch:  014, COST: 0.276022315\n",
      "Epoch:  015, COST: 0.274443209\n",
      "Epoch:  016, COST: 0.273141623\n",
      "Epoch:  017, COST: 0.271675020\n",
      "Epoch:  018, COST: 0.270612031\n",
      "Epoch:  019, COST: 0.269266129\n",
      "Epoch:  020, COST: 0.268309355\n",
      "Epoch:  021, COST: 0.267316043\n",
      "Epoch:  022, COST: 0.266046673\n",
      "Epoch:  023, COST: 0.265456587\n",
      "Epoch:  024, COST: 0.264849991\n",
      "Epoch:  025, COST: 0.264142454\n",
      "Epoch:  026, COST: 0.263353467\n",
      "Epoch:  027, COST: 0.262552917\n",
      "Epoch:  028, COST: 0.261994511\n",
      "Epoch:  029, COST: 0.261272311\n",
      "Epoch:  030, COST: 0.260576248\n",
      "Epoch:  031, COST: 0.260049820\n",
      "Epoch:  032, COST: 0.259724677\n",
      "Epoch:  033, COST: 0.259061843\n",
      "Epoch:  034, COST: 0.258608043\n",
      "Epoch:  035, COST: 0.258058161\n",
      "Epoch:  036, COST: 0.257630378\n",
      "Epoch:  037, COST: 0.257117480\n",
      "Epoch:  038, COST: 0.256689429\n",
      "Epoch:  039, COST: 0.256272912\n",
      "Epoch:  040, COST: 0.256054610\n",
      "Epoch:  041, COST: 0.255417168\n",
      "Epoch:  042, COST: 0.255171120\n",
      "Epoch:  043, COST: 0.254733801\n",
      "Epoch:  044, COST: 0.254559100\n",
      "Epoch:  045, COST: 0.253963232\n",
      "Epoch:  046, COST: 0.253676057\n",
      "Epoch:  047, COST: 0.253184646\n",
      "Epoch:  048, COST: 0.252982289\n",
      "Epoch:  049, COST: 0.252540082\n",
      "Epoch:  050, COST: 0.252443492\n",
      "Epoch:  051, COST: 0.252090186\n",
      "Epoch:  052, COST: 0.251928061\n",
      "Epoch:  053, COST: 0.251573056\n",
      "Epoch:  054, COST: 0.251273036\n",
      "Epoch:  055, COST: 0.251005799\n",
      "Epoch:  056, COST: 0.250681609\n",
      "Epoch:  057, COST: 0.250392795\n",
      "Epoch:  058, COST: 0.250001848\n",
      "Epoch:  059, COST: 0.249966264\n",
      "Epoch:  060, COST: 0.249711931\n",
      "Epoch:  061, COST: 0.249181494\n",
      "Epoch:  062, COST: 0.249097481\n",
      "Epoch:  063, COST: 0.248760745\n",
      "Epoch:  064, COST: 0.248668581\n",
      "Epoch:  065, COST: 0.248429865\n",
      "Epoch:  066, COST: 0.248266801\n",
      "Epoch:  067, COST: 0.248120368\n",
      "Epoch:  068, COST: 0.247996360\n",
      "Epoch:  069, COST: 0.247682005\n",
      "Epoch:  070, COST: 0.247647002\n",
      "Epoch:  071, COST: 0.247314826\n",
      "Epoch:  072, COST: 0.247159973\n",
      "Epoch:  073, COST: 0.246908888\n",
      "Epoch:  074, COST: 0.246761620\n",
      "Epoch:  075, COST: 0.246512219\n",
      "Epoch:  076, COST: 0.246195331\n",
      "Epoch:  077, COST: 0.246168718\n",
      "Epoch:  078, COST: 0.246177033\n",
      "Epoch:  079, COST: 0.245665640\n",
      "Epoch:  080, COST: 0.245720297\n",
      "Epoch:  081, COST: 0.245411679\n",
      "Epoch:  082, COST: 0.245233998\n",
      "Epoch:  083, COST: 0.245186016\n",
      "Epoch:  084, COST: 0.244911611\n",
      "Epoch:  085, COST: 0.244726419\n",
      "Epoch:  086, COST: 0.244657308\n",
      "Epoch:  087, COST: 0.244501352\n",
      "Epoch:  088, COST: 0.244343489\n",
      "Epoch:  089, COST: 0.244171530\n",
      "Epoch:  090, COST: 0.244052649\n",
      "Epoch:  091, COST: 0.243705988\n",
      "Epoch:  092, COST: 0.243597746\n",
      "Epoch:  093, COST: 0.243660346\n",
      "Epoch:  094, COST: 0.243696272\n",
      "Epoch:  095, COST: 0.243377969\n",
      "Epoch:  096, COST: 0.243350208\n",
      "Epoch:  097, COST: 0.243119732\n",
      "Epoch:  098, COST: 0.242843077\n",
      "Epoch:  099, COST: 0.243013024\n",
      "Epoch:  100, COST: 0.242790490\n",
      "학습 종료\n"
     ]
    }
   ],
   "source": [
    "for epoch in range(training_epochs):\n",
    "    avg_cost = 0\n",
    "    total_batch = len(data_loader)\n",
    "\n",
    "    for X, Y in data_loader:\n",
    "        X = X.view(-1, 28 * 28).to(device)\n",
    "        Y = Y.to(device)\n",
    "\n",
    "        optimizer.zero_grad()\n",
    "        hypothesis = linear(X)\n",
    "        cost = criterion(hypothesis, Y)\n",
    "        cost.backward()\n",
    "        optimizer.step()\n",
    "\n",
    "        avg_cost += cost / total_batch\n",
    "\n",
    "    print(f'Epoch: {(epoch + 1): 04,d}, COST: {avg_cost:.9f}')\n",
    "\n",
    "print('학습 종료')"
   ]
  },
  {
   "cell_type": "code",
   "execution_count": 9,
   "metadata": {},
   "outputs": [
    {
     "output_type": "stream",
     "name": "stdout",
     "text": [
      "정확도: 86.85 %\nLabel: 8\nPrediction: 3\n"
     ]
    },
    {
     "output_type": "display_data",
     "data": {
      "text/plain": "<Figure size 432x288 with 1 Axes>",
      "image/svg+xml": "<?xml version=\"1.0\" encoding=\"utf-8\" standalone=\"no\"?>\r\n<!DOCTYPE svg PUBLIC \"-//W3C//DTD SVG 1.1//EN\"\r\n  \"http://www.w3.org/Graphics/SVG/1.1/DTD/svg11.dtd\">\r\n<!-- Created with matplotlib (https://matplotlib.org/) -->\r\n<svg height=\"248.518125pt\" version=\"1.1\" viewBox=\"0 0 251.565 248.518125\" width=\"251.565pt\" xmlns=\"http://www.w3.org/2000/svg\" xmlns:xlink=\"http://www.w3.org/1999/xlink\">\r\n <metadata>\r\n  <rdf:RDF xmlns:cc=\"http://creativecommons.org/ns#\" xmlns:dc=\"http://purl.org/dc/elements/1.1/\" xmlns:rdf=\"http://www.w3.org/1999/02/22-rdf-syntax-ns#\">\r\n   <cc:Work>\r\n    <dc:type rdf:resource=\"http://purl.org/dc/dcmitype/StillImage\"/>\r\n    <dc:date>2021-02-09T15:59:07.451807</dc:date>\r\n    <dc:format>image/svg+xml</dc:format>\r\n    <dc:creator>\r\n     <cc:Agent>\r\n      <dc:title>Matplotlib v3.3.4, https://matplotlib.org/</dc:title>\r\n     </cc:Agent>\r\n    </dc:creator>\r\n   </cc:Work>\r\n  </rdf:RDF>\r\n </metadata>\r\n <defs>\r\n  <style type=\"text/css\">*{stroke-linecap:butt;stroke-linejoin:round;}</style>\r\n </defs>\r\n <g id=\"figure_1\">\r\n  <g id=\"patch_1\">\r\n   <path d=\"M 0 248.518125 \r\nL 251.565 248.518125 \r\nL 251.565 0 \r\nL 0 0 \r\nz\r\n\" style=\"fill:none;\"/>\r\n  </g>\r\n  <g id=\"axes_1\">\r\n   <g id=\"patch_2\">\r\n    <path d=\"M 26.925 224.64 \r\nL 244.365 224.64 \r\nL 244.365 7.2 \r\nL 26.925 7.2 \r\nz\r\n\" style=\"fill:#ffffff;\"/>\r\n   </g>\r\n   <g clip-path=\"url(#p4de5c50093)\">\r\n    <image height=\"218\" id=\"imaged96abb530a\" transform=\"scale(1 -1)translate(0 -218)\" width=\"218\" x=\"26.925\" xlink:href=\"data:image/png;base64,\r\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\" y=\"-6.64\"/>\r\n   </g>\r\n   <g id=\"matplotlib.axis_1\">\r\n    <g id=\"xtick_1\">\r\n     <g id=\"line2d_1\">\r\n      <defs>\r\n       <path d=\"M 0 0 \r\nL 0 3.5 \r\n\" id=\"mf4297ddb31\" style=\"stroke:#000000;stroke-width:0.8;\"/>\r\n      </defs>\r\n      <g>\r\n       <use style=\"stroke:#000000;stroke-width:0.8;\" x=\"30.807857\" xlink:href=\"#mf4297ddb31\" y=\"224.64\"/>\r\n      </g>\r\n     </g>\r\n     <g id=\"text_1\">\r\n      <!-- 0 -->\r\n      <g transform=\"translate(27.626607 239.238437)scale(0.1 -0.1)\">\r\n       <defs>\r\n        <path d=\"M 31.78125 66.40625 \r\nQ 24.171875 66.40625 20.328125 58.90625 \r\nQ 16.5 51.421875 16.5 36.375 \r\nQ 16.5 21.390625 20.328125 13.890625 \r\nQ 24.171875 6.390625 31.78125 6.390625 \r\nQ 39.453125 6.390625 43.28125 13.890625 \r\nQ 47.125 21.390625 47.125 36.375 \r\nQ 47.125 51.421875 43.28125 58.90625 \r\nQ 39.453125 66.40625 31.78125 66.40625 \r\nz\r\nM 31.78125 74.21875 \r\nQ 44.046875 74.21875 50.515625 64.515625 \r\nQ 56.984375 54.828125 56.984375 36.375 \r\nQ 56.984375 17.96875 50.515625 8.265625 \r\nQ 44.046875 -1.421875 31.78125 -1.421875 \r\nQ 19.53125 -1.421875 13.0625 8.265625 \r\nQ 6.59375 17.96875 6.59375 36.375 \r\nQ 6.59375 54.828125 13.0625 64.515625 \r\nQ 19.53125 74.21875 31.78125 74.21875 \r\nz\r\n\" id=\"DejaVuSans-48\"/>\r\n       </defs>\r\n       <use xlink:href=\"#DejaVuSans-48\"/>\r\n      </g>\r\n     </g>\r\n    </g>\r\n    <g id=\"xtick_2\">\r\n     <g id=\"line2d_2\">\r\n      <g>\r\n       <use style=\"stroke:#000000;stroke-width:0.8;\" x=\"69.636429\" xlink:href=\"#mf4297ddb31\" y=\"224.64\"/>\r\n      </g>\r\n     </g>\r\n     <g id=\"text_2\">\r\n      <!-- 5 -->\r\n      <g transform=\"translate(66.455179 239.238437)scale(0.1 -0.1)\">\r\n       <defs>\r\n        <path d=\"M 10.796875 72.90625 \r\nL 49.515625 72.90625 \r\nL 49.515625 64.59375 \r\nL 19.828125 64.59375 \r\nL 19.828125 46.734375 \r\nQ 21.96875 47.46875 24.109375 47.828125 \r\nQ 26.265625 48.1875 28.421875 48.1875 \r\nQ 40.625 48.1875 47.75 41.5 \r\nQ 54.890625 34.8125 54.890625 23.390625 \r\nQ 54.890625 11.625 47.5625 5.09375 \r\nQ 40.234375 -1.421875 26.90625 -1.421875 \r\nQ 22.3125 -1.421875 17.546875 -0.640625 \r\nQ 12.796875 0.140625 7.71875 1.703125 \r\nL 7.71875 11.625 \r\nQ 12.109375 9.234375 16.796875 8.0625 \r\nQ 21.484375 6.890625 26.703125 6.890625 \r\nQ 35.15625 6.890625 40.078125 11.328125 \r\nQ 45.015625 15.765625 45.015625 23.390625 \r\nQ 45.015625 31 40.078125 35.4375 \r\nQ 35.15625 39.890625 26.703125 39.890625 \r\nQ 22.75 39.890625 18.8125 39.015625 \r\nQ 14.890625 38.140625 10.796875 36.28125 \r\nz\r\n\" id=\"DejaVuSans-53\"/>\r\n       </defs>\r\n       <use xlink:href=\"#DejaVuSans-53\"/>\r\n      </g>\r\n     </g>\r\n    </g>\r\n    <g id=\"xtick_3\">\r\n     <g id=\"line2d_3\">\r\n      <g>\r\n       <use style=\"stroke:#000000;stroke-width:0.8;\" x=\"108.465\" xlink:href=\"#mf4297ddb31\" y=\"224.64\"/>\r\n      </g>\r\n     </g>\r\n     <g id=\"text_3\">\r\n      <!-- 10 -->\r\n      <g transform=\"translate(102.1025 239.238437)scale(0.1 -0.1)\">\r\n       <defs>\r\n        <path d=\"M 12.40625 8.296875 \r\nL 28.515625 8.296875 \r\nL 28.515625 63.921875 \r\nL 10.984375 60.40625 \r\nL 10.984375 69.390625 \r\nL 28.421875 72.90625 \r\nL 38.28125 72.90625 \r\nL 38.28125 8.296875 \r\nL 54.390625 8.296875 \r\nL 54.390625 0 \r\nL 12.40625 0 \r\nz\r\n\" id=\"DejaVuSans-49\"/>\r\n       </defs>\r\n       <use xlink:href=\"#DejaVuSans-49\"/>\r\n       <use x=\"63.623047\" xlink:href=\"#DejaVuSans-48\"/>\r\n      </g>\r\n     </g>\r\n    </g>\r\n    <g id=\"xtick_4\">\r\n     <g id=\"line2d_4\">\r\n      <g>\r\n       <use style=\"stroke:#000000;stroke-width:0.8;\" x=\"147.293571\" xlink:href=\"#mf4297ddb31\" y=\"224.64\"/>\r\n      </g>\r\n     </g>\r\n     <g id=\"text_4\">\r\n      <!-- 15 -->\r\n      <g transform=\"translate(140.931071 239.238437)scale(0.1 -0.1)\">\r\n       <use xlink:href=\"#DejaVuSans-49\"/>\r\n       <use x=\"63.623047\" xlink:href=\"#DejaVuSans-53\"/>\r\n      </g>\r\n     </g>\r\n    </g>\r\n    <g id=\"xtick_5\">\r\n     <g id=\"line2d_5\">\r\n      <g>\r\n       <use style=\"stroke:#000000;stroke-width:0.8;\" x=\"186.122143\" xlink:href=\"#mf4297ddb31\" y=\"224.64\"/>\r\n      </g>\r\n     </g>\r\n     <g id=\"text_5\">\r\n      <!-- 20 -->\r\n      <g transform=\"translate(179.759643 239.238437)scale(0.1 -0.1)\">\r\n       <defs>\r\n        <path d=\"M 19.1875 8.296875 \r\nL 53.609375 8.296875 \r\nL 53.609375 0 \r\nL 7.328125 0 \r\nL 7.328125 8.296875 \r\nQ 12.9375 14.109375 22.625 23.890625 \r\nQ 32.328125 33.6875 34.8125 36.53125 \r\nQ 39.546875 41.84375 41.421875 45.53125 \r\nQ 43.3125 49.21875 43.3125 52.78125 \r\nQ 43.3125 58.59375 39.234375 62.25 \r\nQ 35.15625 65.921875 28.609375 65.921875 \r\nQ 23.96875 65.921875 18.8125 64.3125 \r\nQ 13.671875 62.703125 7.8125 59.421875 \r\nL 7.8125 69.390625 \r\nQ 13.765625 71.78125 18.9375 73 \r\nQ 24.125 74.21875 28.421875 74.21875 \r\nQ 39.75 74.21875 46.484375 68.546875 \r\nQ 53.21875 62.890625 53.21875 53.421875 \r\nQ 53.21875 48.921875 51.53125 44.890625 \r\nQ 49.859375 40.875 45.40625 35.40625 \r\nQ 44.1875 33.984375 37.640625 27.21875 \r\nQ 31.109375 20.453125 19.1875 8.296875 \r\nz\r\n\" id=\"DejaVuSans-50\"/>\r\n       </defs>\r\n       <use xlink:href=\"#DejaVuSans-50\"/>\r\n       <use x=\"63.623047\" xlink:href=\"#DejaVuSans-48\"/>\r\n      </g>\r\n     </g>\r\n    </g>\r\n    <g id=\"xtick_6\">\r\n     <g id=\"line2d_6\">\r\n      <g>\r\n       <use style=\"stroke:#000000;stroke-width:0.8;\" x=\"224.950714\" xlink:href=\"#mf4297ddb31\" y=\"224.64\"/>\r\n      </g>\r\n     </g>\r\n     <g id=\"text_6\">\r\n      <!-- 25 -->\r\n      <g transform=\"translate(218.588214 239.238437)scale(0.1 -0.1)\">\r\n       <use xlink:href=\"#DejaVuSans-50\"/>\r\n       <use x=\"63.623047\" xlink:href=\"#DejaVuSans-53\"/>\r\n      </g>\r\n     </g>\r\n    </g>\r\n   </g>\r\n   <g id=\"matplotlib.axis_2\">\r\n    <g id=\"ytick_1\">\r\n     <g id=\"line2d_7\">\r\n      <defs>\r\n       <path d=\"M 0 0 \r\nL -3.5 0 \r\n\" id=\"m7b5898d61d\" style=\"stroke:#000000;stroke-width:0.8;\"/>\r\n      </defs>\r\n      <g>\r\n       <use style=\"stroke:#000000;stroke-width:0.8;\" x=\"26.925\" xlink:href=\"#m7b5898d61d\" y=\"11.082857\"/>\r\n      </g>\r\n     </g>\r\n     <g id=\"text_7\">\r\n      <!-- 0 -->\r\n      <g transform=\"translate(13.5625 14.882076)scale(0.1 -0.1)\">\r\n       <use xlink:href=\"#DejaVuSans-48\"/>\r\n      </g>\r\n     </g>\r\n    </g>\r\n    <g id=\"ytick_2\">\r\n     <g id=\"line2d_8\">\r\n      <g>\r\n       <use style=\"stroke:#000000;stroke-width:0.8;\" x=\"26.925\" xlink:href=\"#m7b5898d61d\" y=\"49.911429\"/>\r\n      </g>\r\n     </g>\r\n     <g id=\"text_8\">\r\n      <!-- 5 -->\r\n      <g transform=\"translate(13.5625 53.710647)scale(0.1 -0.1)\">\r\n       <use xlink:href=\"#DejaVuSans-53\"/>\r\n      </g>\r\n     </g>\r\n    </g>\r\n    <g id=\"ytick_3\">\r\n     <g id=\"line2d_9\">\r\n      <g>\r\n       <use style=\"stroke:#000000;stroke-width:0.8;\" x=\"26.925\" xlink:href=\"#m7b5898d61d\" y=\"88.74\"/>\r\n      </g>\r\n     </g>\r\n     <g id=\"text_9\">\r\n      <!-- 10 -->\r\n      <g transform=\"translate(7.2 92.539219)scale(0.1 -0.1)\">\r\n       <use xlink:href=\"#DejaVuSans-49\"/>\r\n       <use x=\"63.623047\" xlink:href=\"#DejaVuSans-48\"/>\r\n      </g>\r\n     </g>\r\n    </g>\r\n    <g id=\"ytick_4\">\r\n     <g id=\"line2d_10\">\r\n      <g>\r\n       <use style=\"stroke:#000000;stroke-width:0.8;\" x=\"26.925\" xlink:href=\"#m7b5898d61d\" y=\"127.568571\"/>\r\n      </g>\r\n     </g>\r\n     <g id=\"text_10\">\r\n      <!-- 15 -->\r\n      <g transform=\"translate(7.2 131.36779)scale(0.1 -0.1)\">\r\n       <use xlink:href=\"#DejaVuSans-49\"/>\r\n       <use x=\"63.623047\" xlink:href=\"#DejaVuSans-53\"/>\r\n      </g>\r\n     </g>\r\n    </g>\r\n    <g id=\"ytick_5\">\r\n     <g id=\"line2d_11\">\r\n      <g>\r\n       <use style=\"stroke:#000000;stroke-width:0.8;\" x=\"26.925\" xlink:href=\"#m7b5898d61d\" y=\"166.397143\"/>\r\n      </g>\r\n     </g>\r\n     <g id=\"text_11\">\r\n      <!-- 20 -->\r\n      <g transform=\"translate(7.2 170.196362)scale(0.1 -0.1)\">\r\n       <use xlink:href=\"#DejaVuSans-50\"/>\r\n       <use x=\"63.623047\" xlink:href=\"#DejaVuSans-48\"/>\r\n      </g>\r\n     </g>\r\n    </g>\r\n    <g id=\"ytick_6\">\r\n     <g id=\"line2d_12\">\r\n      <g>\r\n       <use style=\"stroke:#000000;stroke-width:0.8;\" x=\"26.925\" xlink:href=\"#m7b5898d61d\" y=\"205.225714\"/>\r\n      </g>\r\n     </g>\r\n     <g id=\"text_12\">\r\n      <!-- 25 -->\r\n      <g transform=\"translate(7.2 209.024933)scale(0.1 -0.1)\">\r\n       <use xlink:href=\"#DejaVuSans-50\"/>\r\n       <use x=\"63.623047\" xlink:href=\"#DejaVuSans-53\"/>\r\n      </g>\r\n     </g>\r\n    </g>\r\n   </g>\r\n   <g id=\"patch_3\">\r\n    <path d=\"M 26.925 224.64 \r\nL 26.925 7.2 \r\n\" style=\"fill:none;stroke:#000000;stroke-linecap:square;stroke-linejoin:miter;stroke-width:0.8;\"/>\r\n   </g>\r\n   <g id=\"patch_4\">\r\n    <path d=\"M 244.365 224.64 \r\nL 244.365 7.2 \r\n\" style=\"fill:none;stroke:#000000;stroke-linecap:square;stroke-linejoin:miter;stroke-width:0.8;\"/>\r\n   </g>\r\n   <g id=\"patch_5\">\r\n    <path d=\"M 26.925 224.64 \r\nL 244.365 224.64 \r\n\" style=\"fill:none;stroke:#000000;stroke-linecap:square;stroke-linejoin:miter;stroke-width:0.8;\"/>\r\n   </g>\r\n   <g id=\"patch_6\">\r\n    <path d=\"M 26.925 7.2 \r\nL 244.365 7.2 \r\n\" style=\"fill:none;stroke:#000000;stroke-linecap:square;stroke-linejoin:miter;stroke-width:0.8;\"/>\r\n   </g>\r\n  </g>\r\n </g>\r\n <defs>\r\n  <clipPath id=\"p4de5c50093\">\r\n   <rect height=\"217.44\" width=\"217.44\" x=\"26.925\" y=\"7.2\"/>\r\n  </clipPath>\r\n </defs>\r\n</svg>\r\n",
      "image/png": "[encoded data removed]"
     },
     "metadata": {
      "needs_background": "light"
     }
    }
   ],
   "source": [
    "with torch.no_grad():\n",
    "    X_test = mnist_test.test_data.view(-1, 28 * 28).float().to(device)\n",
    "    Y_test = mnist_test.test_labels.to(device)\n",
    "\n",
    "    prediction = linear(X_test)\n",
    "    correct_prediction = torch.argmax(prediction, 1) == Y_test\n",
    "    accuracy = correct_prediction.float().mean()\n",
    "    print(f\"정확도: {accuracy.item()*100:.2f} %\")\n",
    "\n",
    "    r = random.randint(0, len(mnist_test) - 1)\n",
    "    X_single_data = mnist_test.test_data[r: r+1].view(-1, 28*28).float().to(device)\n",
    "    Y_single_data = mnist_test.test_labels[r: r+1].to(device)\n",
    "\n",
    "    print(f'Label: {Y_single_data.item()}')\n",
    "    single_prediction = linear(X_single_data)\n",
    "    print(f'Prediction: {torch.argmax(single_prediction, 1).item()}')\n",
    "\n",
    "    plt.imshow(mnist_test.test_data[r: r+1].view(28, 28), cmap='Greys', interpolation='nearest')\n",
    "    plt.show()"
   ]
  },
  {
   "cell_type": "code",
   "execution_count": null,
   "metadata": {},
   "outputs": [],
   "source": []
  }
 ]
}